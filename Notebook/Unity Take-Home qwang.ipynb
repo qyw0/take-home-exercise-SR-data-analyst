{
 "cells": [
  {
   "cell_type": "markdown",
   "id": "31dc5ffc",
   "metadata": {},
   "source": [
    "# Unity Sr Data Analyst Take-Home\n",
    "-Qinya Wang\n",
    "\n",
    "## 1. Load data\n",
    "Import packages, load data from google drive and unzip"
   ]
  },
  {
   "cell_type": "code",
   "execution_count": 1,
   "id": "bc7d821e",
   "metadata": {},
   "outputs": [],
   "source": [
    "import gdown\n",
    "import zipfile\n",
    "import json\n",
    "import pandas as pd"
   ]
  },
  {
   "cell_type": "code",
   "execution_count": 2,
   "id": "89db02c3",
   "metadata": {},
   "outputs": [
    {
     "name": "stderr",
     "output_type": "stream",
     "text": [
      "Downloading...\n",
      "From: https://drive.google.com/u/0/uc?id=114f1iOqYWvgFgMx-QJZEsUEkq5HF84EA\n",
      "To: /Users/qinyaw/sample_data.zip\n",
      "100%|██████████████████████████████████████| 76.1M/76.1M [00:02<00:00, 32.0MB/s]\n"
     ]
    },
    {
     "data": {
      "text/plain": [
       "'sample_data.zip'"
      ]
     },
     "execution_count": 2,
     "metadata": {},
     "output_type": "execute_result"
    }
   ],
   "source": [
    "url = 'https://drive.google.com/u/0/uc?id=114f1iOqYWvgFgMx-QJZEsUEkq5HF84EA'\n",
    "output = 'sample_data.zip'\n",
    "gdown.download(url, output, quiet=False)"
   ]
  },
  {
   "cell_type": "code",
   "execution_count": 4,
   "id": "e4ca231b",
   "metadata": {},
   "outputs": [],
   "source": [
    "with zipfile.ZipFile(\"sample_data.zip\",\"r\") as zip_ref:\n",
    "    zip_ref.extractall()"
   ]
  },
  {
   "cell_type": "markdown",
   "id": "f42eb6b2",
   "metadata": {},
   "source": [
    "## 2. Import JSON file to Dataframe\n",
    "\n",
    "- [pandas.read_json](https://pandas.pydata.org/docs/reference/api/pandas.read_json.html) was used to read JSON file into pandas DataFrame. \n",
    "- Drop duplicated rows\n",
    "- Convert duration to minutes under the assumption that duration is measured in milliseconds\n",
    "- Initially, [pandas.json_normalize](https://pandas.pydata.org/docs/reference/api/pandas.json_normalize.html) could be a better option to normalize the nested JSON in attribute \"parameters\". However, the parameter value is enclosed in quotes (see example below) which turned into a challenge as python recognizes it as String instead of JSON format. Given the time constraint (45-90min), I decided to leave the parameters column as is and try to do analysis based on that. With \"parameters\" normalized, it would enable us to extract/tramsform data much easier.\n",
    "\n",
    "example record in data_zipped.json:\n",
    "\n",
    "{\\\n",
    "   \"submit_date\":\"2021-10-28\",\\\n",
    "   \"ID\":\"ZpjVQPcAbxtYmJrt1Y6yUVlTh2bl/8fAuF1Q0vGFnK0=\",\\\n",
    "   \"platform\":\"WindowsEditor\",\\\n",
    "   \"license\":\"Unity Personal\",\\\n",
    "   \"sessionid\":\"1739394527949573437\",\\\n",
    "   \"blocking\":true,\\\n",
    "   \"duration\":\"330352\",\\\n",
    "   \"parameters\":\"{\\\"sourceView\\\":\\\"UnityEditor.Toolbar\\\",\\\"delayDuration\\\":477588,\\\"loadScenesDuration\\\":1725795,\\\"updateSceneDuration\\\":598151}\",\\\n",
    "   \"start\":\"2021-10-28T18:53:16.4234599Z\",\\\n",
    "   \"subtype\":\"exitPlayMode\",\\\n",
    "   \"ts\":\"2021-10-28 18:53:16.754 UTC\"\\\n",
    "}"
   ]
  },
  {
   "cell_type": "code",
   "execution_count": 139,
   "id": "f7302527",
   "metadata": {},
   "outputs": [],
   "source": [
    "df = pd.read_json('data_zipped.json', lines=True)\n",
    "df = df.drop_duplicates()"
   ]
  },
  {
   "cell_type": "code",
   "execution_count": 140,
   "id": "9cc3d283",
   "metadata": {},
   "outputs": [],
   "source": [
    "df[\"duration_min\"]= df[\"duration\"]/60000"
   ]
  },
  {
   "cell_type": "code",
   "execution_count": 141,
   "id": "88f7bc0b",
   "metadata": {},
   "outputs": [
    {
     "data": {
      "text/html": [
       "<div>\n",
       "<style scoped>\n",
       "    .dataframe tbody tr th:only-of-type {\n",
       "        vertical-align: middle;\n",
       "    }\n",
       "\n",
       "    .dataframe tbody tr th {\n",
       "        vertical-align: top;\n",
       "    }\n",
       "\n",
       "    .dataframe thead th {\n",
       "        text-align: right;\n",
       "    }\n",
       "</style>\n",
       "<table border=\"1\" class=\"dataframe\">\n",
       "  <thead>\n",
       "    <tr style=\"text-align: right;\">\n",
       "      <th></th>\n",
       "      <th>submit_date</th>\n",
       "      <th>ID</th>\n",
       "      <th>platform</th>\n",
       "      <th>sessionid</th>\n",
       "      <th>blocking</th>\n",
       "      <th>duration</th>\n",
       "      <th>parameters</th>\n",
       "      <th>start</th>\n",
       "      <th>subtype</th>\n",
       "      <th>ts</th>\n",
       "      <th>license</th>\n",
       "      <th>duration_min</th>\n",
       "    </tr>\n",
       "  </thead>\n",
       "  <tbody>\n",
       "    <tr>\n",
       "      <th>0</th>\n",
       "      <td>2021-10-28</td>\n",
       "      <td>v4/lL/HKf7A4Sqlx13944zkrx+oapLs+npaw9OUTTd4=</td>\n",
       "      <td>WindowsEditor</td>\n",
       "      <td>5314110829103121408</td>\n",
       "      <td>True</td>\n",
       "      <td>122556.0</td>\n",
       "      <td>{\"sourceView\":\"UnityEditor.Toolbar\"}</td>\n",
       "      <td>2021-10-28T18:43:26.8774433Z</td>\n",
       "      <td>exitPlayMode</td>\n",
       "      <td>2021-10-28 18:43:27.169 UTC</td>\n",
       "      <td>NaN</td>\n",
       "      <td>2.042600</td>\n",
       "    </tr>\n",
       "    <tr>\n",
       "      <th>1</th>\n",
       "      <td>2021-10-28</td>\n",
       "      <td>yneAbGInS6RdkU+np9wOhJxEq4Xx8ThHdiA4c0sH1Dw=</td>\n",
       "      <td>WindowsEditor</td>\n",
       "      <td>6233676446368430080</td>\n",
       "      <td>True</td>\n",
       "      <td>489308.0</td>\n",
       "      <td>{\"sourceView\":\"UnityEditor.Toolbar\"}</td>\n",
       "      <td>2021-10-28T19:38:29.5106919Z</td>\n",
       "      <td>exitPlayMode</td>\n",
       "      <td>2021-10-28 19:38:30.189 UTC</td>\n",
       "      <td>NaN</td>\n",
       "      <td>8.155133</td>\n",
       "    </tr>\n",
       "    <tr>\n",
       "      <th>2</th>\n",
       "      <td>2021-10-28</td>\n",
       "      <td>M5EjWdG90VtOp7sszGIINlbCM62WeqsU8vCNzfDZUs0=</td>\n",
       "      <td>WindowsEditor</td>\n",
       "      <td>2681689864129693184</td>\n",
       "      <td>True</td>\n",
       "      <td>384588.0</td>\n",
       "      <td>{\"sourceView\":\"UnityEditor.Toolbar\"}</td>\n",
       "      <td>2021-10-28T19:04:48.6154116Z</td>\n",
       "      <td>exitPlayMode</td>\n",
       "      <td>2021-10-28 19:04:49.077 UTC</td>\n",
       "      <td>NaN</td>\n",
       "      <td>6.409800</td>\n",
       "    </tr>\n",
       "    <tr>\n",
       "      <th>3</th>\n",
       "      <td>2021-10-28</td>\n",
       "      <td>8r87+Merm5DwsC8QaREoAGMpw4nThXoYZBgxROtfTtY=</td>\n",
       "      <td>WindowsEditor</td>\n",
       "      <td>1290270805231924736</td>\n",
       "      <td>True</td>\n",
       "      <td>155529.0</td>\n",
       "      <td>{\"sourceView\":\"UnityEditor.Toolbar\"}</td>\n",
       "      <td>2021-10-28T21:45:33.8444707Z</td>\n",
       "      <td>exitPlayMode</td>\n",
       "      <td>2021-10-28 21:45:34.009 UTC</td>\n",
       "      <td>NaN</td>\n",
       "      <td>2.592150</td>\n",
       "    </tr>\n",
       "    <tr>\n",
       "      <th>4</th>\n",
       "      <td>2021-10-28</td>\n",
       "      <td>8r87+Merm5DwsC8QaREoAGMpw4nThXoYZBgxROtfTtY=</td>\n",
       "      <td>WindowsEditor</td>\n",
       "      <td>1290270805231924736</td>\n",
       "      <td>True</td>\n",
       "      <td>113993.0</td>\n",
       "      <td>{\"sourceView\":\"UnityEditor.Toolbar\"}</td>\n",
       "      <td>2021-10-28T21:07:52.8860063Z</td>\n",
       "      <td>exitPlayMode</td>\n",
       "      <td>2021-10-28 21:07:53.694 UTC</td>\n",
       "      <td>NaN</td>\n",
       "      <td>1.899883</td>\n",
       "    </tr>\n",
       "  </tbody>\n",
       "</table>\n",
       "</div>"
      ],
      "text/plain": [
       "  submit_date                                            ID       platform  \\\n",
       "0  2021-10-28  v4/lL/HKf7A4Sqlx13944zkrx+oapLs+npaw9OUTTd4=  WindowsEditor   \n",
       "1  2021-10-28  yneAbGInS6RdkU+np9wOhJxEq4Xx8ThHdiA4c0sH1Dw=  WindowsEditor   \n",
       "2  2021-10-28  M5EjWdG90VtOp7sszGIINlbCM62WeqsU8vCNzfDZUs0=  WindowsEditor   \n",
       "3  2021-10-28  8r87+Merm5DwsC8QaREoAGMpw4nThXoYZBgxROtfTtY=  WindowsEditor   \n",
       "4  2021-10-28  8r87+Merm5DwsC8QaREoAGMpw4nThXoYZBgxROtfTtY=  WindowsEditor   \n",
       "\n",
       "             sessionid  blocking  duration  \\\n",
       "0  5314110829103121408      True  122556.0   \n",
       "1  6233676446368430080      True  489308.0   \n",
       "2  2681689864129693184      True  384588.0   \n",
       "3  1290270805231924736      True  155529.0   \n",
       "4  1290270805231924736      True  113993.0   \n",
       "\n",
       "                             parameters                         start  \\\n",
       "0  {\"sourceView\":\"UnityEditor.Toolbar\"}  2021-10-28T18:43:26.8774433Z   \n",
       "1  {\"sourceView\":\"UnityEditor.Toolbar\"}  2021-10-28T19:38:29.5106919Z   \n",
       "2  {\"sourceView\":\"UnityEditor.Toolbar\"}  2021-10-28T19:04:48.6154116Z   \n",
       "3  {\"sourceView\":\"UnityEditor.Toolbar\"}  2021-10-28T21:45:33.8444707Z   \n",
       "4  {\"sourceView\":\"UnityEditor.Toolbar\"}  2021-10-28T21:07:52.8860063Z   \n",
       "\n",
       "        subtype                           ts license  duration_min  \n",
       "0  exitPlayMode  2021-10-28 18:43:27.169 UTC     NaN      2.042600  \n",
       "1  exitPlayMode  2021-10-28 19:38:30.189 UTC     NaN      8.155133  \n",
       "2  exitPlayMode  2021-10-28 19:04:49.077 UTC     NaN      6.409800  \n",
       "3  exitPlayMode  2021-10-28 21:45:34.009 UTC     NaN      2.592150  \n",
       "4  exitPlayMode  2021-10-28 21:07:53.694 UTC     NaN      1.899883  "
      ]
     },
     "execution_count": 141,
     "metadata": {},
     "output_type": "execute_result"
    }
   ],
   "source": [
    "df.head()"
   ]
  },
  {
   "cell_type": "code",
   "execution_count": 142,
   "id": "55f595b2",
   "metadata": {},
   "outputs": [
    {
     "name": "stdout",
     "output_type": "stream",
     "text": [
      "<class 'pandas.core.frame.DataFrame'>\n",
      "Int64Index: 993959 entries, 0 to 1000099\n",
      "Data columns (total 12 columns):\n",
      " #   Column        Non-Null Count   Dtype  \n",
      "---  ------        --------------   -----  \n",
      " 0   submit_date   993959 non-null  object \n",
      " 1   ID            971826 non-null  object \n",
      " 2   platform      993959 non-null  object \n",
      " 3   sessionid     993959 non-null  int64  \n",
      " 4   blocking      993959 non-null  bool   \n",
      " 5   duration      993816 non-null  float64\n",
      " 6   parameters    993959 non-null  object \n",
      " 7   start         993959 non-null  object \n",
      " 8   subtype       993959 non-null  object \n",
      " 9   ts            993788 non-null  object \n",
      " 10  license       961222 non-null  object \n",
      " 11  duration_min  993816 non-null  float64\n",
      "dtypes: bool(1), float64(2), int64(1), object(8)\n",
      "memory usage: 91.9+ MB\n"
     ]
    }
   ],
   "source": [
    "df.info()"
   ]
  },
  {
   "cell_type": "markdown",
   "id": "666a7c0c",
   "metadata": {},
   "source": [
    "## 3. Data Analysis\n",
    "### How many Creators are using our Lighting tools?\n",
    "- There were **75,756** creators using the tool.\n",
    "\n",
    "### Other user insights\n",
    "- Roughly **1/4** (19,589) of the of the creators were on Unity Pro license.\n",
    "- The majority creators (68,442, around **90%**) were using Windows Platform."
   ]
  },
  {
   "cell_type": "code",
   "execution_count": 143,
   "id": "2509c2ea",
   "metadata": {},
   "outputs": [
    {
     "data": {
      "text/plain": [
       "75756"
      ]
     },
     "execution_count": 143,
     "metadata": {},
     "output_type": "execute_result"
    }
   ],
   "source": [
    "df['ID'].nunique()"
   ]
  },
  {
   "cell_type": "code",
   "execution_count": 120,
   "id": "ebcc7cfb",
   "metadata": {},
   "outputs": [
    {
     "data": {
      "text/plain": [
       "license\n",
       "Unity Personal    55112\n",
       "Unity Pro         19589\n",
       "Name: ID, dtype: int64"
      ]
     },
     "execution_count": 120,
     "metadata": {},
     "output_type": "execute_result"
    }
   ],
   "source": [
    "df_lic = df.groupby(['license'])['ID'].nunique()\n",
    "df_lic"
   ]
  },
  {
   "cell_type": "code",
   "execution_count": 121,
   "id": "fa3796a9",
   "metadata": {},
   "outputs": [
    {
     "data": {
      "text/plain": [
       "<matplotlib.legend.Legend at 0x12960ee60>"
      ]
     },
     "execution_count": 121,
     "metadata": {},
     "output_type": "execute_result"
    },
    {
     "data": {
      "image/png": "[encoded data removed]",
      "text/plain": [
       "<Figure size 432x288 with 1 Axes>"
      ]
     },
     "metadata": {},
     "output_type": "display_data"
    }
   ],
   "source": [
    "ax = df_lic.plot(kind=\"pie\", autopct='%1.1f%%', shadow=True, explode=[0.05, 0.05], legend=True, title='License', ylabel='# Creators', labeldistance=None)\n",
    "ax.legend(bbox_to_anchor=(1, 1.02))"
   ]
  },
  {
   "cell_type": "code",
   "execution_count": 122,
   "id": "a54e301b",
   "metadata": {},
   "outputs": [
    {
     "data": {
      "text/plain": [
       "platform\n",
       "LinuxEditor        440\n",
       "OSXEditor         6874\n",
       "WindowsEditor    68442\n",
       "Name: ID, dtype: int64"
      ]
     },
     "execution_count": 122,
     "metadata": {},
     "output_type": "execute_result"
    }
   ],
   "source": [
    "df_plt = df.groupby(['platform'])['ID'].nunique()\n",
    "df_plt"
   ]
  },
  {
   "cell_type": "code",
   "execution_count": 123,
   "id": "d3e8ebb2",
   "metadata": {},
   "outputs": [
    {
     "data": {
      "text/plain": [
       "<matplotlib.legend.Legend at 0x129641ed0>"
      ]
     },
     "execution_count": 123,
     "metadata": {},
     "output_type": "execute_result"
    },
    {
     "data": {
      "image/png": "[encoded data removed]",
      "text/plain": [
       "<Figure size 432x288 with 1 Axes>"
      ]
     },
     "metadata": {},
     "output_type": "display_data"
    }
   ],
   "source": [
    "ax = df_plt.plot(kind=\"pie\", autopct='%1.1f%%',legend=True, title='Platform', ylabel='# Creators', labeldistance=None)\n",
    "ax.legend(bbox_to_anchor=(1, 1.02))"
   ]
  },
  {
   "cell_type": "markdown",
   "id": "25fcff46",
   "metadata": {},
   "source": [
    "### How much time do they generally spend on our Lighting tools?\n",
    "\n",
    "- On average, users spent aourng **1 hour** on a single session.\n",
    "- However, the distribution of durtion was highly skewed(see below duration percentile and boxplot) that **75%** of sessions were completed within **1 hour**. the median of session duration was around **28 minutes**, which would be more appropriate to describe how long user generally spent on one session"
   ]
  },
  {
   "cell_type": "code",
   "execution_count": 135,
   "id": "2f260d7a",
   "metadata": {},
   "outputs": [
    {
     "data": {
      "text/plain": [
       "65.96343263129194"
      ]
     },
     "execution_count": 135,
     "metadata": {},
     "output_type": "execute_result"
    }
   ],
   "source": [
    "# Average duration in minutes\n",
    "df[\"duration_min\"].mean()"
   ]
  },
  {
   "cell_type": "code",
   "execution_count": 136,
   "id": "f41c7849",
   "metadata": {},
   "outputs": [
    {
     "data": {
      "text/plain": [
       "27.707825"
      ]
     },
     "execution_count": 136,
     "metadata": {},
     "output_type": "execute_result"
    }
   ],
   "source": [
    "# Median duration in minutes\n",
    "df[\"duration_min\"].median()"
   ]
  },
  {
   "cell_type": "code",
   "execution_count": 137,
   "id": "5b630d93",
   "metadata": {},
   "outputs": [
    {
     "data": {
      "text/plain": [
       "count    9.938160e+05\n",
       "mean     6.596343e+01\n",
       "std      1.479458e+03\n",
       "min      8.050000e-03\n",
       "25%      6.158838e+00\n",
       "50%      2.770782e+01\n",
       "75%      5.899332e+01\n",
       "max      1.433558e+06\n",
       "Name: duration, dtype: float64"
      ]
     },
     "execution_count": 137,
     "metadata": {},
     "output_type": "execute_result"
    }
   ],
   "source": [
    "# duration percentile in minutes, 75% percentile is 59 min\n",
    "df[\"duration_min\"].describe()"
   ]
  },
  {
   "cell_type": "code",
   "execution_count": 138,
   "id": "6e3e89fb",
   "metadata": {},
   "outputs": [
    {
     "data": {
      "text/plain": [
       "<AxesSubplot: >"
      ]
     },
     "execution_count": 138,
     "metadata": {},
     "output_type": "execute_result"
    },
    {
     "data": {
      "image/png": "[encoded data removed]",
      "text/plain": [
       "<Figure size 432x288 with 1 Axes>"
      ]
     },
     "metadata": {
      "needs_background": "light"
     },
     "output_type": "display_data"
    }
   ],
   "source": [
    "df.boxplot(column='duration_min')"
   ]
  },
  {
   "cell_type": "markdown",
   "id": "20e09fc1",
   "metadata": {},
   "source": [
    "### How many Creators use “bakeBackend”?\n",
    "**15,004 (19.8%)** creators used “bakeBackend”."
   ]
  },
  {
   "cell_type": "code",
   "execution_count": 128,
   "id": "0c2ba67c",
   "metadata": {
    "scrolled": true
   },
   "outputs": [],
   "source": [
    "bakeBackend = df[df['parameters'].str.contains(\"bakeBackend\")]"
   ]
  },
  {
   "cell_type": "code",
   "execution_count": 129,
   "id": "2a46c08b",
   "metadata": {},
   "outputs": [
    {
     "data": {
      "text/plain": [
       "15004"
      ]
     },
     "execution_count": 129,
     "metadata": {},
     "output_type": "execute_result"
    }
   ],
   "source": [
    "bakeBackend['ID'].nunique()"
   ]
  },
  {
   "cell_type": "code",
   "execution_count": 130,
   "id": "8eb8b4dc",
   "metadata": {},
   "outputs": [
    {
     "data": {
      "text/plain": [
       "0.19805691958392735"
      ]
     },
     "execution_count": 130,
     "metadata": {},
     "output_type": "execute_result"
    }
   ],
   "source": [
    "bakeBackend['ID'].nunique()/df['ID'].nunique()"
   ]
  },
  {
   "cell_type": "markdown",
   "id": "b21328d8",
   "metadata": {},
   "source": [
    "### Which version of “bakeBackend” is used the most?\n",
    "- There were **23,621** enlighten sessions and **68,673** progressivecpu sessions.\n",
    "- **progressivecpu** was used the most"
   ]
  },
  {
   "cell_type": "code",
   "execution_count": 131,
   "id": "7f9326a1",
   "metadata": {},
   "outputs": [
    {
     "data": {
      "text/plain": [
       "23621"
      ]
     },
     "execution_count": 131,
     "metadata": {},
     "output_type": "execute_result"
    }
   ],
   "source": [
    "bakeBackend[bakeBackend['parameters'].str.contains(\"enlighten\")]['sessionid'].count()"
   ]
  },
  {
   "cell_type": "code",
   "execution_count": 132,
   "id": "ca52c9c9",
   "metadata": {},
   "outputs": [
    {
     "data": {
      "text/plain": [
       "68673"
      ]
     },
     "execution_count": 132,
     "metadata": {},
     "output_type": "execute_result"
    }
   ],
   "source": [
    "bakeBackend[bakeBackend['parameters'].str.contains(\"progressivecpu\")]['sessionid'].count()"
   ]
  },
  {
   "cell_type": "markdown",
   "id": "25d8816f",
   "metadata": {},
   "source": [
    "## Next Steps\n",
    "- Normalized the parameters column so that we can analyze each detailed parameter and gain more user insight\n",
    " - Remove the quotes around parameter field then parse it as JSON\n",
    " - Utilize other tools to read the data\n",
    "- Utilize BI tool (Tableau/PowerBI, etc.) to visualize the data"
   ]
  },
  {
   "cell_type": "code",
   "execution_count": null,
   "id": "595b086e",
   "metadata": {},
   "outputs": [],
   "source": []
  }
 ],
 "metadata": {
  "kernelspec": {
   "display_name": "Python 3 (ipykernel)",
   "language": "python",
   "name": "python3"
  },
  "language_info": {
   "codemirror_mode": {
    "name": "ipython",
    "version": 3
   },
   "file_extension": ".py",
   "mimetype": "text/x-python",
   "name": "python",
   "nbconvert_exporter": "python",
   "pygments_lexer": "ipython3",
   "version": "3.10.0"
  }
 },
 "nbformat": 4,
 "nbformat_minor": 5
}
